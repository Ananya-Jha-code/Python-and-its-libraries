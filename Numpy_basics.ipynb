{
  "nbformat": 4,
  "nbformat_minor": 0,
  "metadata": {
    "colab": {
      "name": "Numpy basics ",
      "provenance": [],
      "collapsed_sections": [],
      "authorship_tag": "ABX9TyNZyLygzOE7cv3Egt+Letp0",
      "include_colab_link": true
    },
    "kernelspec": {
      "name": "python3",
      "display_name": "Python 3"
    },
    "language_info": {
      "name": "python"
    }
  },
  "cells": [
    {
      "cell_type": "markdown",
      "metadata": {
        "id": "view-in-github",
        "colab_type": "text"
      },
      "source": [
        "<a href=\"https://colab.research.google.com/github/Ananya-Jha-code/Python-and-its-libraries/blob/main/Numpy_basics.ipynb\" target=\"_parent\"><img src=\"https://colab.research.google.com/assets/colab-badge.svg\" alt=\"Open In Colab\"/></a>"
      ]
    },
    {
      "cell_type": "code",
      "metadata": {
        "id": "L1MrnQ5m9cJo"
      },
      "source": [
        "# Numpy\n",
        "import numpy as np"
      ],
      "execution_count": 21,
      "outputs": []
    },
    {
      "cell_type": "code",
      "metadata": {
        "id": "rdw7_2qT-KAT",
        "colab": {
          "base_uri": "https://localhost:8080/"
        },
        "outputId": "45be854f-a454-4129-ba91-14721bf725a2"
      },
      "source": [
        "a = np.array([1,2,3], dtype='int32')\n",
        "print(a)\n",
        "b = np.array([[9.0,8.0,7.0],[6.0,5.0,4.0]])\n",
        "print(b)"
      ],
      "execution_count": 22,
      "outputs": [
        {
          "output_type": "stream",
          "text": [
            "[1 2 3]\n",
            "[[9. 8. 7.]\n",
            " [6. 5. 4.]]\n"
          ],
          "name": "stdout"
        }
      ]
    },
    {
      "cell_type": "code",
      "metadata": {
        "id": "LMadIxDi-xvD",
        "colab": {
          "base_uri": "https://localhost:8080/"
        },
        "outputId": "07d88147-efe1-4ea3-ae33-7f4bf0b0079b"
      },
      "source": [
        "a.ndim"
      ],
      "execution_count": 23,
      "outputs": [
        {
          "output_type": "execute_result",
          "data": {
            "text/plain": [
              "1"
            ]
          },
          "metadata": {
            "tags": []
          },
          "execution_count": 23
        }
      ]
    },
    {
      "cell_type": "code",
      "metadata": {
        "id": "APGgC5mkIqtU",
        "colab": {
          "base_uri": "https://localhost:8080/"
        },
        "outputId": "9139e43b-bd78-4d9b-97dd-41eeff5c7132"
      },
      "source": [
        "b.shape"
      ],
      "execution_count": 24,
      "outputs": [
        {
          "output_type": "execute_result",
          "data": {
            "text/plain": [
              "(2, 3)"
            ]
          },
          "metadata": {
            "tags": []
          },
          "execution_count": 24
        }
      ]
    },
    {
      "cell_type": "code",
      "metadata": {
        "id": "JKdmkCcPIq9b",
        "colab": {
          "base_uri": "https://localhost:8080/"
        },
        "outputId": "34fe76a4-ce0c-46fc-a1f2-9348dc8177fb"
      },
      "source": [
        "a.dtype"
      ],
      "execution_count": 25,
      "outputs": [
        {
          "output_type": "execute_result",
          "data": {
            "text/plain": [
              "dtype('int32')"
            ]
          },
          "metadata": {
            "tags": []
          },
          "execution_count": 25
        }
      ]
    },
    {
      "cell_type": "code",
      "metadata": {
        "id": "ewxCjpWp_IZf",
        "colab": {
          "base_uri": "https://localhost:8080/"
        },
        "outputId": "ee252e04-7228-421c-88f0-635efec16ca2"
      },
      "source": [
        "a.itemsize"
      ],
      "execution_count": 26,
      "outputs": [
        {
          "output_type": "execute_result",
          "data": {
            "text/plain": [
              "4"
            ]
          },
          "metadata": {
            "tags": []
          },
          "execution_count": 26
        }
      ]
    },
    {
      "cell_type": "code",
      "metadata": {
        "id": "xMvouhlgI5jE",
        "colab": {
          "base_uri": "https://localhost:8080/"
        },
        "outputId": "ac72dfde-8df7-4e2a-d4a6-fde4df23f483"
      },
      "source": [
        "a.nbytes"
      ],
      "execution_count": 27,
      "outputs": [
        {
          "output_type": "execute_result",
          "data": {
            "text/plain": [
              "12"
            ]
          },
          "metadata": {
            "tags": []
          },
          "execution_count": 27
        }
      ]
    },
    {
      "cell_type": "code",
      "metadata": {
        "id": "rkdd9UWWI5wQ",
        "colab": {
          "base_uri": "https://localhost:8080/"
        },
        "outputId": "82b13cd3-5470-4362-9e97-95ce25adb42c"
      },
      "source": [
        "a.size"
      ],
      "execution_count": 28,
      "outputs": [
        {
          "output_type": "execute_result",
          "data": {
            "text/plain": [
              "3"
            ]
          },
          "metadata": {
            "tags": []
          },
          "execution_count": 28
        }
      ]
    },
    {
      "cell_type": "code",
      "metadata": {
        "colab": {
          "base_uri": "https://localhost:8080/"
        },
        "id": "yioAr07C_TJ0",
        "outputId": "71c7bcdf-c1a5-4fd3-bc10-e2749f25d0ba"
      },
      "source": [
        "# changing and accessing elements\n",
        "\n",
        "a = np.array([[1,2,3,4,5,6,7],[8,9,10,11,12,13,14]])\n",
        "print(a)"
      ],
      "execution_count": 29,
      "outputs": [
        {
          "output_type": "stream",
          "text": [
            "[[ 1  2  3  4  5  6  7]\n",
            " [ 8  9 10 11 12 13 14]]\n"
          ],
          "name": "stdout"
        }
      ]
    },
    {
      "cell_type": "code",
      "metadata": {
        "colab": {
          "base_uri": "https://localhost:8080/"
        },
        "id": "ca5AC7DTJdRL",
        "outputId": "918f9d77-9154-4c6f-c527-f1cd0515638f"
      },
      "source": [
        "a[1, 5]"
      ],
      "execution_count": 30,
      "outputs": [
        {
          "output_type": "execute_result",
          "data": {
            "text/plain": [
              "13"
            ]
          },
          "metadata": {
            "tags": []
          },
          "execution_count": 30
        }
      ]
    },
    {
      "cell_type": "code",
      "metadata": {
        "colab": {
          "base_uri": "https://localhost:8080/"
        },
        "id": "Ga-cL_fSJdcG",
        "outputId": "0d5a2481-dd56-400c-d011-a42a5e873440"
      },
      "source": [
        "a[0, :]"
      ],
      "execution_count": 31,
      "outputs": [
        {
          "output_type": "execute_result",
          "data": {
            "text/plain": [
              "array([1, 2, 3, 4, 5, 6, 7])"
            ]
          },
          "metadata": {
            "tags": []
          },
          "execution_count": 31
        }
      ]
    },
    {
      "cell_type": "code",
      "metadata": {
        "id": "GQ3e1Ln8A_X7",
        "colab": {
          "base_uri": "https://localhost:8080/"
        },
        "outputId": "ac6ea669-3b36-43d1-c003-a7c0a8009336"
      },
      "source": [
        "# 3D example\n",
        "b = np.array([[[1,2],[3,4]],[[5,6],[7,8]]])\n",
        "print(b)"
      ],
      "execution_count": 32,
      "outputs": [
        {
          "output_type": "stream",
          "text": [
            "[[[1 2]\n",
            "  [3 4]]\n",
            "\n",
            " [[5 6]\n",
            "  [7 8]]]\n"
          ],
          "name": "stdout"
        }
      ]
    },
    {
      "cell_type": "code",
      "metadata": {
        "id": "BGj6k3vDBJBR",
        "colab": {
          "base_uri": "https://localhost:8080/"
        },
        "outputId": "bfa6a2b7-c55a-4cbd-924e-ddf9ec79553d"
      },
      "source": [
        "# All zero matrix\n",
        "np.zeros((2,3))"
      ],
      "execution_count": 33,
      "outputs": [
        {
          "output_type": "execute_result",
          "data": {
            "text/plain": [
              "array([[0., 0., 0.],\n",
              "       [0., 0., 0.]])"
            ]
          },
          "metadata": {
            "tags": []
          },
          "execution_count": 33
        }
      ]
    },
    {
      "cell_type": "code",
      "metadata": {
        "id": "nVNWQKa7BP9K",
        "colab": {
          "base_uri": "https://localhost:8080/"
        },
        "outputId": "9d1075e3-69d6-4222-ee05-c64e13d22f31"
      },
      "source": [
        "# All 1 matrix\n",
        "np.ones((4,2,2), dtype='int32')"
      ],
      "execution_count": 34,
      "outputs": [
        {
          "output_type": "execute_result",
          "data": {
            "text/plain": [
              "array([[[1, 1],\n",
              "        [1, 1]],\n",
              "\n",
              "       [[1, 1],\n",
              "        [1, 1]],\n",
              "\n",
              "       [[1, 1],\n",
              "        [1, 1]],\n",
              "\n",
              "       [[1, 1],\n",
              "        [1, 1]]], dtype=int32)"
            ]
          },
          "metadata": {
            "tags": []
          },
          "execution_count": 34
        }
      ]
    },
    {
      "cell_type": "code",
      "metadata": {
        "id": "akMBeSMSBYq4",
        "colab": {
          "base_uri": "https://localhost:8080/"
        },
        "outputId": "5d098952-7ec2-432a-d270-acb30a61c6e0"
      },
      "source": [
        "np.full_like(a, 4)"
      ],
      "execution_count": 35,
      "outputs": [
        {
          "output_type": "execute_result",
          "data": {
            "text/plain": [
              "array([[4, 4, 4, 4, 4, 4, 4],\n",
              "       [4, 4, 4, 4, 4, 4, 4]])"
            ]
          },
          "metadata": {
            "tags": []
          },
          "execution_count": 35
        }
      ]
    },
    {
      "cell_type": "code",
      "metadata": {
        "id": "6s3-X_8xB8hZ",
        "colab": {
          "base_uri": "https://localhost:8080/"
        },
        "outputId": "c4ba97aa-4436-414f-b044-4a38cc34d0cf"
      },
      "source": [
        "np.full_like(a, 4)"
      ],
      "execution_count": 36,
      "outputs": [
        {
          "output_type": "execute_result",
          "data": {
            "text/plain": [
              "array([[4, 4, 4, 4, 4, 4, 4],\n",
              "       [4, 4, 4, 4, 4, 4, 4]])"
            ]
          },
          "metadata": {
            "tags": []
          },
          "execution_count": 36
        }
      ]
    },
    {
      "cell_type": "code",
      "metadata": {
        "id": "waD8bKCHCABm",
        "colab": {
          "base_uri": "https://localhost:8080/"
        },
        "outputId": "56d16458-a9e5-4b2a-d927-015e11a006c7"
      },
      "source": [
        "np.random.randint(-4,8, size=(3,3))"
      ],
      "execution_count": 37,
      "outputs": [
        {
          "output_type": "execute_result",
          "data": {
            "text/plain": [
              "array([[ 5, -2, -4],\n",
              "       [ 3,  7,  3],\n",
              "       [ 5,  1,  0]])"
            ]
          },
          "metadata": {
            "tags": []
          },
          "execution_count": 37
        }
      ]
    },
    {
      "cell_type": "code",
      "metadata": {
        "id": "KkeIG0ahCEY2",
        "colab": {
          "base_uri": "https://localhost:8080/"
        },
        "outputId": "9ed728f9-1abc-4345-8209-a96cfb113dce"
      },
      "source": [
        "# identity matrix\n",
        "np.identity(5)"
      ],
      "execution_count": 38,
      "outputs": [
        {
          "output_type": "execute_result",
          "data": {
            "text/plain": [
              "array([[1., 0., 0., 0., 0.],\n",
              "       [0., 1., 0., 0., 0.],\n",
              "       [0., 0., 1., 0., 0.],\n",
              "       [0., 0., 0., 1., 0.],\n",
              "       [0., 0., 0., 0., 1.]])"
            ]
          },
          "metadata": {
            "tags": []
          },
          "execution_count": 38
        }
      ]
    },
    {
      "cell_type": "code",
      "metadata": {
        "id": "C09kskUgCS6s",
        "colab": {
          "base_uri": "https://localhost:8080/"
        },
        "outputId": "b9c0e205-dc1f-48b9-e776-787ffd9df3ee"
      },
      "source": [
        "arr = np.array([[1,2,3]])\n",
        "r1 = np.repeat(arr,3, axis=0)\n",
        "print(r1)"
      ],
      "execution_count": 39,
      "outputs": [
        {
          "output_type": "stream",
          "text": [
            "[[1 2 3]\n",
            " [1 2 3]\n",
            " [1 2 3]]\n"
          ],
          "name": "stdout"
        }
      ]
    },
    {
      "cell_type": "code",
      "metadata": {
        "colab": {
          "base_uri": "https://localhost:8080/"
        },
        "id": "VRTff88DHGws",
        "outputId": "b6ef5ff4-2101-4d10-8d8c-04232b51682d"
      },
      "source": [
        "a = np.array([1,2,3,4])\n",
        "a ** 2"
      ],
      "execution_count": 40,
      "outputs": [
        {
          "output_type": "execute_result",
          "data": {
            "text/plain": [
              "array([ 1,  4,  9, 16])"
            ]
          },
          "metadata": {
            "tags": []
          },
          "execution_count": 40
        }
      ]
    },
    {
      "cell_type": "code",
      "metadata": {
        "colab": {
          "base_uri": "https://localhost:8080/"
        },
        "id": "-9lLSdhQJ_Pb",
        "outputId": "1593bc8e-1fe9-4be8-f5a0-a0ac17c6559c"
      },
      "source": [
        "b = np.array([1,0,1,0])\n",
        "a + b"
      ],
      "execution_count": 41,
      "outputs": [
        {
          "output_type": "execute_result",
          "data": {
            "text/plain": [
              "array([2, 2, 4, 4])"
            ]
          },
          "metadata": {
            "tags": []
          },
          "execution_count": 41
        }
      ]
    },
    {
      "cell_type": "code",
      "metadata": {
        "colab": {
          "base_uri": "https://localhost:8080/"
        },
        "id": "0LToysWpHaWY",
        "outputId": "cabe0c33-3fc3-40dc-f142-9808f1894960"
      },
      "source": [
        "a = np.ones((2,3))\n",
        "print(a)\n",
        "\n",
        "b = np.full((3,2), 2)\n",
        "print(b)\n",
        "\n",
        "np.matmul(a,b)"
      ],
      "execution_count": 42,
      "outputs": [
        {
          "output_type": "stream",
          "text": [
            "[[1. 1. 1.]\n",
            " [1. 1. 1.]]\n",
            "[[2 2]\n",
            " [2 2]\n",
            " [2 2]]\n"
          ],
          "name": "stdout"
        },
        {
          "output_type": "execute_result",
          "data": {
            "text/plain": [
              "array([[6., 6.],\n",
              "       [6., 6.]])"
            ]
          },
          "metadata": {
            "tags": []
          },
          "execution_count": 42
        }
      ]
    },
    {
      "cell_type": "code",
      "metadata": {
        "id": "oIwoJyBCHgjj",
        "colab": {
          "base_uri": "https://localhost:8080/"
        },
        "outputId": "4ef3f3e7-7f3e-42ec-b06c-b88d1b7e74eb"
      },
      "source": [
        "# Find the determinant\n",
        "c = np.identity(3)\n",
        "np.linalg.det(c)"
      ],
      "execution_count": 43,
      "outputs": [
        {
          "output_type": "execute_result",
          "data": {
            "text/plain": [
              "1.0"
            ]
          },
          "metadata": {
            "tags": []
          },
          "execution_count": 43
        }
      ]
    },
    {
      "cell_type": "code",
      "metadata": {
        "id": "J9uRJhcBHnXp",
        "colab": {
          "base_uri": "https://localhost:8080/"
        },
        "outputId": "7a102a01-f9f2-47c5-e7d9-175db3f9b7ab"
      },
      "source": [
        "stats = np.array([[1,2,3],[4,5,6]])\n",
        "stats\n",
        "\n",
        "np.min(stats)"
      ],
      "execution_count": 44,
      "outputs": [
        {
          "output_type": "execute_result",
          "data": {
            "text/plain": [
              "1"
            ]
          },
          "metadata": {
            "tags": []
          },
          "execution_count": 44
        }
      ]
    },
    {
      "cell_type": "code",
      "metadata": {
        "id": "dCYzfiu6ID-a",
        "colab": {
          "base_uri": "https://localhost:8080/"
        },
        "outputId": "c2597969-4778-49af-bd62-03e5ce4f1183"
      },
      "source": [
        "# Horizontal  stack\n",
        "h1 = np.ones((2,4))\n",
        "h2 = np.zeros((2,2))\n",
        "\n",
        "np.hstack((h1,h2))"
      ],
      "execution_count": 45,
      "outputs": [
        {
          "output_type": "execute_result",
          "data": {
            "text/plain": [
              "array([[1., 1., 1., 1., 0., 0.],\n",
              "       [1., 1., 1., 1., 0., 0.]])"
            ]
          },
          "metadata": {
            "tags": []
          },
          "execution_count": 45
        }
      ]
    },
    {
      "cell_type": "code",
      "metadata": {
        "id": "CysoetxnIFss"
      },
      "source": [
        ""
      ],
      "execution_count": 45,
      "outputs": []
    }
  ]
}