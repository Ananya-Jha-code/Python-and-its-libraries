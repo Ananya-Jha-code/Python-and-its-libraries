{
  "nbformat": 4,
  "nbformat_minor": 0,
  "metadata": {
    "colab": {
      "name": "Web scrapping bs4",
      "provenance": [],
      "authorship_tag": "ABX9TyMakVYnY1me1NSm2Fdbh4bm",
      "include_colab_link": true
    },
    "kernelspec": {
      "name": "python3",
      "display_name": "Python 3"
    },
    "language_info": {
      "name": "python"
    }
  },
  "cells": [
    {
      "cell_type": "markdown",
      "metadata": {
        "id": "view-in-github",
        "colab_type": "text"
      },
      "source": [
        "<a href=\"https://colab.research.google.com/github/Ananya-Jha-code/Python-and-its-libraries/blob/main/Web_scrapping_bs4.ipynb\" target=\"_parent\"><img src=\"https://colab.research.google.com/assets/colab-badge.svg\" alt=\"Open In Colab\"/></a>"
      ]
    },
    {
      "cell_type": "code",
      "metadata": {
        "id": "i_P29qw1Ob_b"
      },
      "source": [
        "import requests\n",
        "from bs4 import BeautifulSoup\n",
        "import os"
      ],
      "execution_count": 1,
      "outputs": []
    },
    {
      "cell_type": "code",
      "metadata": {
        "id": "HrWSKz9BPntP"
      },
      "source": [
        "url = 'https://www.airbnb.co.uk/s/Ljubljana--Slovenia/homes?tab_id=home_tab&refinement_paths%5B%5D=%2Fhomes&query=Ljubljana%2C%20Slovenia&place_id=ChIJ0YaYlvUxZUcRIOw_ghz4AAQ&checkin=2020-11-01&checkout=2020-11-08&source=structured_search_input_header&search_type=autocomplete_click'\n"
      ],
      "execution_count": 7,
      "outputs": []
    },
    {
      "cell_type": "code",
      "metadata": {
        "colab": {
          "base_uri": "https://localhost:8080/"
        },
        "id": "XNzWDR6qQOtW",
        "outputId": "d130d56e-c231-4256-daac-e00bdbc1f827"
      },
      "source": [
        "r = requests.get(url)\n",
        "soup = BeautifulSoup(r.text,'html.parser')\n",
        "images = soup.find_all('img')\n",
        "print(images)"
      ],
      "execution_count": 11,
      "outputs": [
        {
          "output_type": "stream",
          "text": [
            "[<img alt=\"\" aria-hidden=\"true\" class=\"_1cb9q3xq\" data-original-uri=\"https://a0.muscache.com/im/pictures/656ad7f6-3456-4650-a088-f4b367a490eb.jpg?im_w=720\" src=\"https://a0.muscache.com/im/pictures/656ad7f6-3456-4650-a088-f4b367a490eb.jpg?im_w=720\" style=\"object-fit:cover\"/>, <img alt=\"\" aria-hidden=\"true\" class=\"_1cb9q3xq\" data-original-uri=\"https://a0.muscache.com/im/pictures/811040b5-2446-4b58-aa7d-d1a1c6b6c0a4.jpg?im_w=720\" src=\"https://a0.muscache.com/im/pictures/811040b5-2446-4b58-aa7d-d1a1c6b6c0a4.jpg?im_w=720\" style=\"object-fit:cover\"/>, <img alt=\"\" aria-hidden=\"true\" class=\"_1cb9q3xq\" data-original-uri=\"https://a0.muscache.com/im/pictures/455b17fa-f184-4103-bf07-aeeffedef4ba.jpg?im_w=720\" src=\"https://a0.muscache.com/im/pictures/455b17fa-f184-4103-bf07-aeeffedef4ba.jpg?im_w=720\" style=\"object-fit:cover\"/>, <img alt=\"\" aria-hidden=\"true\" class=\"_1cb9q3xq\" data-original-uri=\"https://a0.muscache.com/im/pictures/57ca0d05-b13f-4cb7-8c76-71af632a72b5.jpg?im_w=720\" src=\"https://a0.muscache.com/im/pictures/57ca0d05-b13f-4cb7-8c76-71af632a72b5.jpg?im_w=720\" style=\"object-fit:cover\"/>, <img alt=\"\" aria-hidden=\"true\" class=\"_1cb9q3xq\" data-original-uri=\"https://a0.muscache.com/im/pictures/59738627-a049-4cec-9e21-2f31302c011c.jpg?im_w=720\" src=\"https://a0.muscache.com/im/pictures/59738627-a049-4cec-9e21-2f31302c011c.jpg?im_w=720\" style=\"object-fit:cover\"/>, <img alt=\"\" aria-hidden=\"true\" class=\"_1cb9q3xq\" data-original-uri=\"https://a0.muscache.com/im/pictures/9c323a75-745e-4e57-b61e-079783fc17fb.jpg?im_w=720\" src=\"https://a0.muscache.com/im/pictures/9c323a75-745e-4e57-b61e-079783fc17fb.jpg?im_w=720\" style=\"object-fit:cover\"/>, <img alt=\"\" aria-hidden=\"true\" class=\"_1cb9q3xq\" data-original-uri=\"https://a0.muscache.com/im/pictures/a6810768-1eb8-4d7c-b938-2e1fb739fb86.jpg?im_w=720\" src=\"https://a0.muscache.com/im/pictures/a6810768-1eb8-4d7c-b938-2e1fb739fb86.jpg?im_w=720\" style=\"object-fit:cover\"/>, <img alt=\"\" aria-hidden=\"true\" class=\"_1cb9q3xq\" data-original-uri=\"https://a0.muscache.com/im/pictures/30c8dfd8-e5df-459c-93a1-c1f56715af3e.jpg?im_w=720\" src=\"https://a0.muscache.com/im/pictures/30c8dfd8-e5df-459c-93a1-c1f56715af3e.jpg?im_w=720\" style=\"object-fit:cover\"/>, <img alt=\"\" aria-hidden=\"true\" class=\"_1cb9q3xq\" data-original-uri=\"https://a0.muscache.com/im/pictures/f34e6742-3c8b-4f89-a1b6-40e858040064.jpg?im_w=720\" src=\"https://a0.muscache.com/im/pictures/f34e6742-3c8b-4f89-a1b6-40e858040064.jpg?im_w=720\" style=\"object-fit:cover\"/>, <img alt=\"\" aria-hidden=\"true\" class=\"_1cb9q3xq\" data-original-uri=\"https://a0.muscache.com/im/pictures/e8b88dc4-ef40-4ff4-9b75-21d1e1fd2718.jpg?im_w=720\" src=\"https://a0.muscache.com/im/pictures/e8b88dc4-ef40-4ff4-9b75-21d1e1fd2718.jpg?im_w=720\" style=\"object-fit:cover\"/>, <img alt=\"\" aria-hidden=\"true\" class=\"_1cb9q3xq\" data-original-uri=\"https://a0.muscache.com/im/pictures/miso/Hosting-18972898/original/9475666f-ba9b-439e-bdb5-b74a7dce6b12.jpeg?im_w=720\" src=\"https://a0.muscache.com/im/pictures/miso/Hosting-18972898/original/9475666f-ba9b-439e-bdb5-b74a7dce6b12.jpeg?im_w=720\" style=\"object-fit:cover\"/>, <img alt=\"\" aria-hidden=\"true\" class=\"_1cb9q3xq\" data-original-uri=\"https://a0.muscache.com/im/pictures/b104f6ec-e70a-457e-8ba6-a2d836d9745a.jpg?im_w=720\" src=\"https://a0.muscache.com/im/pictures/b104f6ec-e70a-457e-8ba6-a2d836d9745a.jpg?im_w=720\" style=\"object-fit:cover\"/>, <img alt=\"\" aria-hidden=\"true\" class=\"_1cb9q3xq\" data-original-uri=\"https://a0.muscache.com/im/pictures/f6a52a80-b710-44e8-8174-f7a88008c2d5.jpg?im_w=720\" src=\"https://a0.muscache.com/im/pictures/f6a52a80-b710-44e8-8174-f7a88008c2d5.jpg?im_w=720\" style=\"object-fit:cover\"/>, <img alt=\"\" aria-hidden=\"true\" class=\"_1cb9q3xq\" data-original-uri=\"https://a0.muscache.com/im/pictures/3ed392dd-cea7-41a5-9f60-9724718ced29.jpg?im_w=720\" src=\"https://a0.muscache.com/im/pictures/3ed392dd-cea7-41a5-9f60-9724718ced29.jpg?im_w=720\" style=\"object-fit:cover\"/>, <img alt=\"\" aria-hidden=\"true\" class=\"_1cb9q3xq\" data-original-uri=\"https://a0.muscache.com/im/pictures/73f7dfaf-147c-4862-bf48-58de57c62e0f.jpg?im_w=720\" src=\"https://a0.muscache.com/im/pictures/73f7dfaf-147c-4862-bf48-58de57c62e0f.jpg?im_w=720\" style=\"object-fit:cover\"/>, <img alt=\"\" aria-hidden=\"true\" class=\"_1cb9q3xq\" data-original-uri=\"https://a0.muscache.com/im/pictures/miso/Hosting-24426828/original/0142752e-a17e-409a-9afa-fd882785f0c9.png?im_w=720\" src=\"https://a0.muscache.com/im/pictures/miso/Hosting-24426828/original/0142752e-a17e-409a-9afa-fd882785f0c9.png?im_w=720\" style=\"object-fit:cover\"/>, <img alt=\"\" aria-hidden=\"true\" class=\"_1cb9q3xq\" data-original-uri=\"https://a0.muscache.com/im/pictures/4838a570-8167-4af7-9355-7f7254b66053.jpg?im_w=720\" src=\"https://a0.muscache.com/im/pictures/4838a570-8167-4af7-9355-7f7254b66053.jpg?im_w=720\" style=\"object-fit:cover\"/>, <img alt=\"\" aria-hidden=\"true\" class=\"_1cb9q3xq\" data-original-uri=\"https://a0.muscache.com/im/pictures/168df6d1-32b3-452e-b310-453705d6b1f9.jpg?im_w=720\" src=\"https://a0.muscache.com/im/pictures/168df6d1-32b3-452e-b310-453705d6b1f9.jpg?im_w=720\" style=\"object-fit:cover\"/>, <img alt=\"\" aria-hidden=\"true\" class=\"_1cb9q3xq\" data-original-uri=\"https://a0.muscache.com/im/pictures/425c990b-41f5-4e38-a05f-96e61b8cc4ca.jpg?im_w=720\" src=\"https://a0.muscache.com/im/pictures/425c990b-41f5-4e38-a05f-96e61b8cc4ca.jpg?im_w=720\" style=\"object-fit:cover\"/>, <img alt=\"\" aria-hidden=\"true\" class=\"_1cb9q3xq\" data-original-uri=\"https://a0.muscache.com/im/pictures/ab580c67-1385-4553-b0e7-b08ea721060d.jpg?im_w=720\" src=\"https://a0.muscache.com/im/pictures/ab580c67-1385-4553-b0e7-b08ea721060d.jpg?im_w=720\" style=\"object-fit:cover\"/>]\n"
          ],
          "name": "stdout"
        }
      ]
    }
  ]
}