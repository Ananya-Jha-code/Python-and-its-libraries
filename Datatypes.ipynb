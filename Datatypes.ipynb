{
  "nbformat": 4,
  "nbformat_minor": 0,
  "metadata": {
    "colab": {
      "name": "Copy of Python basics",
      "provenance": [],
      "collapsed_sections": [],
      "authorship_tag": "ABX9TyMr08pX/vvFGJ0pnvhZ1o48",
      "include_colab_link": true
    },
    "kernelspec": {
      "name": "python3",
      "display_name": "Python 3"
    },
    "language_info": {
      "name": "python"
    }
  },
  "cells": [
    {
      "cell_type": "markdown",
      "metadata": {
        "id": "view-in-github",
        "colab_type": "text"
      },
      "source": [
        "<a href=\"https://colab.research.google.com/github/Ananya-Jha-code/Python-and-its-libraries/blob/main/Datatypes.ipynb\" target=\"_parent\"><img src=\"https://colab.research.google.com/assets/colab-badge.svg\" alt=\"Open In Colab\"/></a>"
      ]
    },
    {
      "cell_type": "code",
      "metadata": {
        "id": "KBMn5R1gmkPU",
        "colab": {
          "base_uri": "https://localhost:8080/",
          "height": 35
        },
        "outputId": "ea84709c-7ad7-4209-d941-c76ead0ad269"
      },
      "source": [
        "# Python and its libraries\n",
        "''' When you’re backed against the wall,\n",
        " break the goddamn thing down.'''"
      ],
      "execution_count": 1,
      "outputs": [
        {
          "output_type": "execute_result",
          "data": {
            "application/vnd.google.colaboratory.intrinsic+json": {
              "type": "string"
            },
            "text/plain": [
              "' When you’re backed against the wall,\\n break the goddamn thing down.'"
            ]
          },
          "metadata": {
            "tags": []
          },
          "execution_count": 1
        }
      ]
    },
    {
      "cell_type": "code",
      "metadata": {
        "id": "LdHhzySBorO0",
        "colab": {
          "base_uri": "https://localhost:8080/"
        },
        "outputId": "aff43b23-8a10-42c2-b6b8-a97102e1f606"
      },
      "source": [
        "# indentation is important in python\n",
        "for i in range(1,11):\n",
        "    print(i)\n",
        "    if i == 5:\n",
        "        break"
      ],
      "execution_count": 2,
      "outputs": [
        {
          "output_type": "stream",
          "text": [
            "1\n",
            "2\n",
            "3\n",
            "4\n",
            "5\n"
          ],
          "name": "stdout"
        }
      ]
    },
    {
      "cell_type": "code",
      "metadata": {
        "id": "vD7guXOgqP-V",
        "colab": {
          "base_uri": "https://localhost:8080/",
          "height": 131
        },
        "outputId": "cdbaacf4-12ac-4512-d6d0-31bdfe9300df"
      },
      "source": [
        "for i in range(1,11):\n",
        "print(i)\n",
        "if i == 5:\n",
        "break"
      ],
      "execution_count": 3,
      "outputs": [
        {
          "output_type": "error",
          "ename": "IndentationError",
          "evalue": "ignored",
          "traceback": [
            "\u001b[0;36m  File \u001b[0;32m\"<ipython-input-3-7c1ae1044b8d>\"\u001b[0;36m, line \u001b[0;32m2\u001b[0m\n\u001b[0;31m    print(i)\u001b[0m\n\u001b[0m        ^\u001b[0m\n\u001b[0;31mIndentationError\u001b[0m\u001b[0;31m:\u001b[0m expected an indented block\n"
          ]
        }
      ]
    },
    {
      "cell_type": "code",
      "metadata": {
        "id": "lUzG63FNqZbv",
        "colab": {
          "base_uri": "https://localhost:8080/"
        },
        "outputId": "c3fc6ff5-56b1-4f6e-e512-d5cacd2005e3"
      },
      "source": [
        "# Datatypes\n",
        "# Numeric\n",
        "a = 2\n",
        "b = 2.71232\n",
        "c = 5+8j\n",
        "print(a,type(a))\n",
        "print(b,type(b))\n",
        "print(c,type(c))"
      ],
      "execution_count": 5,
      "outputs": [
        {
          "output_type": "stream",
          "text": [
            "2 <class 'int'>\n",
            "2.71232 <class 'float'>\n",
            "(5+8j) <class 'complex'>\n"
          ],
          "name": "stdout"
        }
      ]
    },
    {
      "cell_type": "code",
      "metadata": {
        "id": "-6grI0ZYzgML",
        "colab": {
          "base_uri": "https://localhost:8080/"
        },
        "outputId": "77a64cb1-b22a-4aef-d227-7fa9e64000b9"
      },
      "source": [
        "# Decimal\n",
        "print(1.1+2.2)\n",
        "from decimal import Decimal as D\n",
        "print(D('1.1')+D('2.2'))"
      ],
      "execution_count": 6,
      "outputs": [
        {
          "output_type": "stream",
          "text": [
            "3.3000000000000003\n",
            "3.3\n"
          ],
          "name": "stdout"
        }
      ]
    },
    {
      "cell_type": "code",
      "metadata": {
        "id": "dNpS2rnczkB7",
        "colab": {
          "base_uri": "https://localhost:8080/"
        },
        "outputId": "f1417bf5-137c-40d2-f439-76864e8dd22a"
      },
      "source": [
        "import math\n",
        "\n",
        "print(math.pi)\n",
        "\n",
        "print(math.cos(math.pi))\n",
        "\n",
        "print(math.exp(10))\n",
        "\n",
        "print(math.log10(1000))\n",
        "\n",
        "print(math.sinh(1))\n",
        "\n",
        "print(math.factorial(6))"
      ],
      "execution_count": 4,
      "outputs": [
        {
          "output_type": "stream",
          "text": [
            "3.141592653589793\n",
            "-1.0\n",
            "22026.465794806718\n",
            "3.0\n",
            "1.1752011936438014\n",
            "720\n"
          ],
          "name": "stdout"
        }
      ]
    },
    {
      "cell_type": "code",
      "metadata": {
        "id": "Ib0xqQBa0ASt",
        "colab": {
          "base_uri": "https://localhost:8080/"
        },
        "outputId": "552736dc-a994-4772-88b2-812eecf0b770"
      },
      "source": [
        "import random\n",
        "\n",
        "print(random.randrange(10, 20))\n",
        "\n",
        "x = ['a', 'b', 'c', 'd', 'e']\n",
        "\n",
        "# Get random choice\n",
        "print(random.choice(x))\n",
        "\n",
        "# Shuffle x\n",
        "random.shuffle(x)\n",
        "\n",
        "# Print the shuffled x\n",
        "print(x)\n",
        "\n",
        "# Print random element\n",
        "print(random.random())"
      ],
      "execution_count": 7,
      "outputs": [
        {
          "output_type": "stream",
          "text": [
            "16\n",
            "a\n",
            "['b', 'e', 'c', 'a', 'd']\n",
            "0.6977617454894534\n"
          ],
          "name": "stdout"
        }
      ]
    },
    {
      "cell_type": "code",
      "metadata": {
        "id": "XTffMCqWuvpQ",
        "colab": {
          "base_uri": "https://localhost:8080/"
        },
        "outputId": "89a36628-75a7-426c-970d-c21a3b594cbc"
      },
      "source": [
        "# Dictionaries\n",
        "# empty dictionary\n",
        "suits1 = {}\n",
        "\n",
        "# dictionary with mixed keys\n",
        "suits2 = {'Harvey': 'Specter', 1: [2, 4, 3]}\n",
        "\n",
        "# using dict()\n",
        "suits3 = dict({1:'Mike', 2:'Rachel'})\n",
        "\n",
        "# from sequence having each item as a pair\n",
        "suits4 = dict([(1,'Jessica'), (2,'Donna'),(3,'Hardman')])\n",
        "\n",
        "print(suits2.get('Harvey'))\n",
        "suits3[3] = 'Louis'\n",
        "print(suits4.pop(3))\n",
        "print('Hardman' in suits4)\n"
      ],
      "execution_count": 8,
      "outputs": [
        {
          "output_type": "stream",
          "text": [
            "Specter\n",
            "Hardman\n",
            "False\n"
          ],
          "name": "stdout"
        }
      ]
    },
    {
      "cell_type": "code",
      "metadata": {
        "id": "YLoIspTq7mnA",
        "colab": {
          "base_uri": "https://localhost:8080/"
        },
        "outputId": "a0cbdca0-2e0f-4c60-e7bc-3e23310405d8"
      },
      "source": [
        "# Sets\n",
        "suits5 = {'Donna', 'is'}\n",
        "suits5.add('Awesome')\n",
        "print(suits5)"
      ],
      "execution_count": 9,
      "outputs": [
        {
          "output_type": "stream",
          "text": [
            "{'Donna', 'is', 'Awesome'}\n"
          ],
          "name": "stdout"
        }
      ]
    },
    {
      "cell_type": "code",
      "metadata": {
        "id": "69D0U76u_IwZ",
        "colab": {
          "base_uri": "https://localhost:8080/"
        },
        "outputId": "3e08be54-fa2d-4fbe-a885-a781f6565fa9"
      },
      "source": [
        "A = {'Winners', 'dont'}\n",
        "B = {'make','excuses'}\n",
        "print(A | B)"
      ],
      "execution_count": 10,
      "outputs": [
        {
          "output_type": "stream",
          "text": [
            "{'dont', 'Winners', 'excuses', 'make'}\n"
          ],
          "name": "stdout"
        }
      ]
    },
    {
      "cell_type": "code",
      "metadata": {
        "id": "0X8BgoYx9D3K",
        "colab": {
          "base_uri": "https://localhost:8080/"
        },
        "outputId": "64f82981-fdfe-46dd-c372-da41be1f3210"
      },
      "source": [
        "# Lists\n",
        "suit = ['R','o','b','e','r','t','Z','a','n','e']\n",
        "print(suit[5])\n",
        "print(suit[-1])\n",
        "print(suit[6:10])\n",
        "print([\"cool\"] * 3)"
      ],
      "execution_count": 11,
      "outputs": [
        {
          "output_type": "stream",
          "text": [
            "t\n",
            "e\n",
            "['Z', 'a', 'n', 'e']\n",
            "['cool', 'cool', 'cool']\n"
          ],
          "name": "stdout"
        }
      ]
    },
    {
      "cell_type": "code",
      "metadata": {
        "id": "nDRifjcUEKCl",
        "colab": {
          "base_uri": "https://localhost:8080/"
        },
        "outputId": "9cc30c5c-d337-4467-9512-ec88710f7c01"
      },
      "source": [
        "pow2 = [2 ** x for x in range(10)]\n",
        "print(pow2)\n",
        "for fruit in ['apple','banana','mango']:\n",
        "    print(\"I like\",fruit)"
      ],
      "execution_count": 12,
      "outputs": [
        {
          "output_type": "stream",
          "text": [
            "[1, 2, 4, 8, 16, 32, 64, 128, 256, 512]\n",
            "I like apple\n",
            "I like banana\n",
            "I like mango\n"
          ],
          "name": "stdout"
        }
      ]
    },
    {
      "cell_type": "code",
      "metadata": {
        "id": "rZMdi7749Fq4",
        "colab": {
          "base_uri": "https://localhost:8080/"
        },
        "outputId": "ddc223cc-7585-42bc-e9a3-b94690a6a8e3"
      },
      "source": [
        "# Tuples\n",
        "import sys\n",
        "t = ('Win','big')\n",
        "l = ['Win','big']\n",
        "print(sys.getsizeof(t))\n",
        "print(sys.getsizeof(l))"
      ],
      "execution_count": 13,
      "outputs": [
        {
          "output_type": "stream",
          "text": [
            "72\n",
            "88\n"
          ],
          "name": "stdout"
        }
      ]
    }
  ]
}