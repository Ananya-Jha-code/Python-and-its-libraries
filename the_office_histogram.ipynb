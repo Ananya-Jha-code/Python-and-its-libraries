{
  "nbformat": 4,
  "nbformat_minor": 0,
  "metadata": {
    "colab": {
      "name": "the office histogram",
      "provenance": [],
      "collapsed_sections": [],
      "mount_file_id": "1AUVMw5W6T7TGXN_Blke6LEHfd0JRJAjA",
      "authorship_tag": "ABX9TyM/RD9cI6b5Y36xR/tcPKB3",
      "include_colab_link": true
    },
    "kernelspec": {
      "name": "python3",
      "display_name": "Python 3"
    },
    "language_info": {
      "name": "python"
    }
  },
  "cells": [
    {
      "cell_type": "markdown",
      "metadata": {
        "id": "view-in-github",
        "colab_type": "text"
      },
      "source": [
        "<a href=\"https://colab.research.google.com/github/Ananya-Jha-code/Python-and-its-libraries/blob/main/the_office_histogram.ipynb\" target=\"_parent\"><img src=\"https://colab.research.google.com/assets/colab-badge.svg\" alt=\"Open In Colab\"/></a>"
      ]
    },
    {
      "cell_type": "code",
      "metadata": {
        "colab": {
          "base_uri": "https://localhost:8080/"
        },
        "id": "oPPbfwjgkdkO",
        "outputId": "7990b71d-f723-40b7-e7e0-a64a18f65183"
      },
      "source": [
        "from google.colab import drive\n",
        "drive.mount(\"/content/drive\")"
      ],
      "execution_count": null,
      "outputs": [
        {
          "output_type": "stream",
          "text": [
            "Mounted at /content/drive\n"
          ],
          "name": "stdout"
        }
      ]
    },
    {
      "cell_type": "code",
      "metadata": {
        "colab": {
          "base_uri": "https://localhost:8080/"
        },
        "id": "RhkgWy93lC5A",
        "outputId": "31729fa7-1eae-4875-8fd8-8a85a922f330"
      },
      "source": [
        "!ls \"/content/drive/MyDrive/the_office_series.csv\""
      ],
      "execution_count": null,
      "outputs": [
        {
          "output_type": "stream",
          "text": [
            "/content/drive/MyDrive/the_office_series.csv\n"
          ],
          "name": "stdout"
        }
      ]
    },
    {
      "cell_type": "code",
      "metadata": {
        "colab": {
          "base_uri": "https://localhost:8080/",
          "height": 397
        },
        "id": "ecZ2bkUKl3SS",
        "outputId": "84532368-e11f-4d54-c0d0-c656b2d21bc3"
      },
      "source": [
        "import pandas as pd\n",
        "import matplotlib.pyplot as plt\n",
        "import numpy as np\n",
        "scott = pd.read_csv(\"/content/drive/MyDrive/the_office_series.csv\")\n",
        "\n",
        "scott.head(5)"
      ],
      "execution_count": null,
      "outputs": [
        {
          "output_type": "execute_result",
          "data": {
            "text/html": [
              "<div>\n",
              "<style scoped>\n",
              "    .dataframe tbody tr th:only-of-type {\n",
              "        vertical-align: middle;\n",
              "    }\n",
              "\n",
              "    .dataframe tbody tr th {\n",
              "        vertical-align: top;\n",
              "    }\n",
              "\n",
              "    .dataframe thead th {\n",
              "        text-align: right;\n",
              "    }\n",
              "</style>\n",
              "<table border=\"1\" class=\"dataframe\">\n",
              "  <thead>\n",
              "    <tr style=\"text-align: right;\">\n",
              "      <th></th>\n",
              "      <th>Unnamed: 0</th>\n",
              "      <th>Season</th>\n",
              "      <th>EpisodeTitle</th>\n",
              "      <th>About</th>\n",
              "      <th>Ratings</th>\n",
              "      <th>Votes</th>\n",
              "      <th>Viewership</th>\n",
              "      <th>Duration</th>\n",
              "      <th>Date</th>\n",
              "      <th>GuestStars</th>\n",
              "      <th>Director</th>\n",
              "      <th>Writers</th>\n",
              "    </tr>\n",
              "  </thead>\n",
              "  <tbody>\n",
              "    <tr>\n",
              "      <th>0</th>\n",
              "      <td>0</td>\n",
              "      <td>1</td>\n",
              "      <td>Pilot</td>\n",
              "      <td>The premiere episode introduces the boss and s...</td>\n",
              "      <td>7.5</td>\n",
              "      <td>4936</td>\n",
              "      <td>11.2</td>\n",
              "      <td>23</td>\n",
              "      <td>24 March 2005</td>\n",
              "      <td>NaN</td>\n",
              "      <td>Ken Kwapis</td>\n",
              "      <td>Ricky Gervais |Stephen Merchant and Greg Daniels</td>\n",
              "    </tr>\n",
              "    <tr>\n",
              "      <th>1</th>\n",
              "      <td>1</td>\n",
              "      <td>1</td>\n",
              "      <td>Diversity Day</td>\n",
              "      <td>Michael's off color remark puts a sensitivity ...</td>\n",
              "      <td>8.3</td>\n",
              "      <td>4801</td>\n",
              "      <td>6.0</td>\n",
              "      <td>23</td>\n",
              "      <td>29 March 2005</td>\n",
              "      <td>NaN</td>\n",
              "      <td>Ken Kwapis</td>\n",
              "      <td>B. J. Novak</td>\n",
              "    </tr>\n",
              "    <tr>\n",
              "      <th>2</th>\n",
              "      <td>2</td>\n",
              "      <td>1</td>\n",
              "      <td>Health Care</td>\n",
              "      <td>Michael leaves Dwight in charge of picking the...</td>\n",
              "      <td>7.8</td>\n",
              "      <td>4024</td>\n",
              "      <td>5.8</td>\n",
              "      <td>22</td>\n",
              "      <td>5 April 2005</td>\n",
              "      <td>NaN</td>\n",
              "      <td>Ken Whittingham</td>\n",
              "      <td>Paul Lieberstein</td>\n",
              "    </tr>\n",
              "    <tr>\n",
              "      <th>3</th>\n",
              "      <td>3</td>\n",
              "      <td>1</td>\n",
              "      <td>The Alliance</td>\n",
              "      <td>Just for a laugh, Jim agrees to an alliance wi...</td>\n",
              "      <td>8.1</td>\n",
              "      <td>3915</td>\n",
              "      <td>5.4</td>\n",
              "      <td>23</td>\n",
              "      <td>12 April 2005</td>\n",
              "      <td>NaN</td>\n",
              "      <td>Bryan Gordon</td>\n",
              "      <td>Michael Schur</td>\n",
              "    </tr>\n",
              "    <tr>\n",
              "      <th>4</th>\n",
              "      <td>4</td>\n",
              "      <td>1</td>\n",
              "      <td>Basketball</td>\n",
              "      <td>Michael and his staff challenge the warehouse ...</td>\n",
              "      <td>8.4</td>\n",
              "      <td>4294</td>\n",
              "      <td>5.0</td>\n",
              "      <td>23</td>\n",
              "      <td>19 April 2005</td>\n",
              "      <td>NaN</td>\n",
              "      <td>Greg Daniels</td>\n",
              "      <td>Greg Daniels</td>\n",
              "    </tr>\n",
              "  </tbody>\n",
              "</table>\n",
              "</div>"
            ],
            "text/plain": [
              "   Unnamed: 0  ...                                           Writers\n",
              "0           0  ...  Ricky Gervais |Stephen Merchant and Greg Daniels\n",
              "1           1  ...                                       B. J. Novak\n",
              "2           2  ...                                  Paul Lieberstein\n",
              "3           3  ...                                     Michael Schur\n",
              "4           4  ...                                      Greg Daniels\n",
              "\n",
              "[5 rows x 12 columns]"
            ]
          },
          "metadata": {
            "tags": []
          },
          "execution_count": 8
        }
      ]
    },
    {
      "cell_type": "code",
      "metadata": {
        "colab": {
          "base_uri": "https://localhost:8080/",
          "height": 621
        },
        "id": "AfEC0gcmr6er",
        "outputId": "caf16201-d565-435a-8151-7484176d08f8"
      },
      "source": [
        "bins = [1,2,3,4,5,6,7,8,9]\n",
        "\n",
        "plt.figure(figsize=(9,10))\n",
        "\n",
        "plt.hist(scott.Season, bins=bins, color='#abcdef')\n",
        "\n",
        "plt.xticks(bins)\n",
        "\n",
        "plt.ylabel('Ratings')\n",
        "plt.xlabel('Season')\n",
        "plt.title('Ratings vs Season')\n",
        "\n",
        "plt.savefig('histogram.png', dpi=300)\n",
        "\n",
        "plt.show()\n"
      ],
      "execution_count": null,
      "outputs": [
        {
          "output_type": "display_data",
          "data": {
            "image/png": "[encoded data removed]",
            "text/plain": [
              "<Figure size 648x720 with 1 Axes>"
            ]
          },
          "metadata": {
            "tags": [],
            "needs_background": "light"
          }
        }
      ]
    }
  ]
}